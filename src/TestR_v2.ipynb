{
 "cells": [
  {
   "cell_type": "markdown",
   "id": "41cf34e6",
   "metadata": {},
   "source": [
    "# This is a test where GeoJSON is loaded in R, some statictics calculated and map plotted"
   ]
  },
  {
   "cell_type": "markdown",
   "id": "80834df3",
   "metadata": {},
   "source": [
    "# Load R libraries"
   ]
  },
  {
   "cell_type": "code",
   "execution_count": null,
   "id": "732cc47f",
   "metadata": {
    "vscode": {
     "languageId": "r"
    }
   },
   "outputs": [],
   "source": [
    "library(ggplot2)\n",
    "library(leaflet)"
   ]
  },
  {
   "cell_type": "markdown",
   "id": "060cbac7",
   "metadata": {},
   "source": [
    "## Import GeoJSON\n",
    "- use relative paths"
   ]
  },
  {
   "cell_type": "code",
   "execution_count": null,
   "id": "fb98f424",
   "metadata": {
    "vscode": {
     "languageId": "r"
    }
   },
   "outputs": [],
   "source": [
    "# here() to define relative path based on project root \n",
    "lhd_tiles_geojson_path <- here::here(\"data\", \"lhd_tiles_1km_epsg25833.geojson\") \n",
    "\n",
    "print(lhd_tiles_geojson_path)"
   ]
  },
  {
   "cell_type": "markdown",
   "id": "8c35e62c",
   "metadata": {},
   "source": []
  },
  {
   "cell_type": "markdown",
   "id": "e828abff",
   "metadata": {},
   "source": [
    "## Imprt as SF"
   ]
  },
  {
   "cell_type": "code",
   "execution_count": null,
   "id": "b9fc30a7",
   "metadata": {
    "vscode": {
     "languageId": "r"
    }
   },
   "outputs": [],
   "source": [
    "# function st_read\n",
    "lhd_tiles_sf <- sf::st_read(lhd_tiles_geojson_path)\n",
    "\n"
   ]
  },
  {
   "cell_type": "markdown",
   "id": "b0913ef1",
   "metadata": {},
   "source": [
    "## convert sf to data.table"
   ]
  },
  {
   "cell_type": "code",
   "execution_count": null,
   "id": "334b031e",
   "metadata": {
    "vscode": {
     "languageId": "r"
    }
   },
   "outputs": [],
   "source": [
    "# convert to data.table as firstly I do mainly data manipulation and plotting\n",
    "lhd_tiles_dt <- data.table::as.data.table(lhd_tiles_sf)\n",
    "lhd_tiles_dt"
   ]
  },
  {
   "cell_type": "markdown",
   "id": "ee9f9831",
   "metadata": {},
   "source": [
    " ## test aggregation"
   ]
  },
  {
   "cell_type": "code",
   "execution_count": null,
   "id": "542ee372",
   "metadata": {
    "vscode": {
     "languageId": "r"
    }
   },
   "outputs": [],
   "source": [
    "# convert to data.table as firstly I do mainly data manipulation and plotting\n",
    "lhd_north_aggr <- lhd_tiles_dt[, .(count_cells = .N), by= c(\"North\")]\n",
    "lhd_north_aggr"
   ]
  },
  {
   "cell_type": "markdown",
   "id": "73e05c0c",
   "metadata": {},
   "source": [
    "# plot histogram"
   ]
  },
  {
   "cell_type": "code",
   "execution_count": null,
   "id": "8d61aa7a",
   "metadata": {
    "vscode": {
     "languageId": "r"
    }
   },
   "outputs": [],
   "source": [
    "plot_histo <- ggplot2::ggplot(lhd_north_aggr, ggplot2::aes(x = North, y = count_cells, fill = count_cells)) +\n",
    "  ggplot2::theme_bw()+\n",
    "  ggplot2::geom_bar(stat = \"identity\", width = 0.7) \n",
    "\n",
    "plot_histo"
   ]
  },
  {
   "cell_type": "markdown",
   "id": "c9cbda2c",
   "metadata": {},
   "source": [
    "# plot map \n",
    "\n",
    "# Note: leaflet works with RGB rasters or tiles, so we convert using rasterImage"
   ]
  },
  {
   "cell_type": "code",
   "execution_count": null,
   "id": "f4654426",
   "metadata": {
    "scrolled": true,
    "vscode": {
     "languageId": "r"
    }
   },
   "outputs": [],
   "source": [
    "# Make sure the data is in WGS84 (lat/lon)\n",
    "lhd_tiles_sf <- sf::st_transform(lhd_tiles_sf, crs = 4326)\n",
    "\n",
    "leaflet_plot <- leaflet(options = leafletOptions(minZoom = 2)) %>%\n",
    "  addProviderTiles(\"CartoDB.Positron\") %>%  # nice, clean basemap\n",
    "  addPolygons(data= lhd_tiles_sf, color = \"green\")\n",
    "\n",
    "leaflet_plot"
   ]
  },
  {
   "cell_type": "code",
   "execution_count": null,
   "id": "b59e5333-c474-4125-9cd6-7010430ca46a",
   "metadata": {
    "vscode": {
     "languageId": "r"
    }
   },
   "outputs": [],
   "source": []
  }
 ],
 "metadata": {
  "kernelspec": {
   "display_name": "R",
   "language": "R",
   "name": "ir"
  },
  "language_info": {
   "codemirror_mode": "r",
   "file_extension": ".r",
   "mimetype": "text/x-r-source",
   "name": "R",
   "pygments_lexer": "r",
   "version": "4.1.3"
  }
 },
 "nbformat": 4,
 "nbformat_minor": 5
}
